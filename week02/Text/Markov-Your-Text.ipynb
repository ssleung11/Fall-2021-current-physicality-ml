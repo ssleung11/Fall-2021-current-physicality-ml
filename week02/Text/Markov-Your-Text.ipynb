{
 "cells": [
  {
   "cell_type": "code",
   "execution_count": 1,
   "metadata": {},
   "outputs": [
    {
     "name": "stdout",
     "output_type": "stream",
     "text": [
      "Requirement already satisfied: nltk in /Users/shirley/anaconda3/lib/python3.7/site-packages (3.4.4)\n",
      "Requirement already satisfied: six in /Users/shirley/anaconda3/lib/python3.7/site-packages (from nltk) (1.15.0)\n",
      "Requirement already satisfied: spacy in /Users/shirley/anaconda3/lib/python3.7/site-packages (3.1.2)\n",
      "Requirement already satisfied: setuptools in /Users/shirley/anaconda3/lib/python3.7/site-packages (from spacy) (41.0.1)\n",
      "Requirement already satisfied: preshed<3.1.0,>=3.0.2 in /Users/shirley/anaconda3/lib/python3.7/site-packages (from spacy) (3.0.5)\n",
      "Requirement already satisfied: jinja2 in /Users/shirley/anaconda3/lib/python3.7/site-packages (from spacy) (2.10.1)\n",
      "Requirement already satisfied: spacy-legacy<3.1.0,>=3.0.7 in /Users/shirley/anaconda3/lib/python3.7/site-packages (from spacy) (3.0.8)\n",
      "Requirement already satisfied: cymem<2.1.0,>=2.0.2 in /Users/shirley/anaconda3/lib/python3.7/site-packages (from spacy) (2.0.5)\n",
      "Requirement already satisfied: wasabi<1.1.0,>=0.8.1 in /Users/shirley/anaconda3/lib/python3.7/site-packages (from spacy) (0.8.2)\n",
      "Requirement already satisfied: thinc<8.1.0,>=8.0.8 in /Users/shirley/anaconda3/lib/python3.7/site-packages (from spacy) (8.0.10)\n",
      "Requirement already satisfied: pathy>=0.3.5 in /Users/shirley/anaconda3/lib/python3.7/site-packages (from spacy) (0.6.0)\n",
      "Requirement already satisfied: typing-extensions<4.0.0.0,>=3.7.4; python_version < \"3.8\" in /Users/shirley/anaconda3/lib/python3.7/site-packages (from spacy) (3.7.4.3)\n",
      "Requirement already satisfied: requests<3.0.0,>=2.13.0 in /Users/shirley/anaconda3/lib/python3.7/site-packages (from spacy) (2.22.0)\n",
      "Requirement already satisfied: typer<0.4.0,>=0.3.0 in /Users/shirley/anaconda3/lib/python3.7/site-packages (from spacy) (0.3.2)\n",
      "Requirement already satisfied: blis<0.8.0,>=0.4.0 in /Users/shirley/anaconda3/lib/python3.7/site-packages (from spacy) (0.7.4)\n",
      "Requirement already satisfied: tqdm<5.0.0,>=4.38.0 in /Users/shirley/anaconda3/lib/python3.7/site-packages (from spacy) (4.62.2)\n",
      "Requirement already satisfied: catalogue<2.1.0,>=2.0.4 in /Users/shirley/anaconda3/lib/python3.7/site-packages (from spacy) (2.0.6)\n",
      "Requirement already satisfied: murmurhash<1.1.0,>=0.28.0 in /Users/shirley/anaconda3/lib/python3.7/site-packages (from spacy) (1.0.5)\n",
      "Requirement already satisfied: numpy>=1.15.0 in /Users/shirley/anaconda3/lib/python3.7/site-packages (from spacy) (1.18.5)\n",
      "Requirement already satisfied: pydantic!=1.8,!=1.8.1,<1.9.0,>=1.7.4 in /Users/shirley/anaconda3/lib/python3.7/site-packages (from spacy) (1.8.2)\n",
      "Requirement already satisfied: packaging>=20.0 in /Users/shirley/anaconda3/lib/python3.7/site-packages (from spacy) (21.0)\n",
      "Requirement already satisfied: srsly<3.0.0,>=2.4.1 in /Users/shirley/anaconda3/lib/python3.7/site-packages (from spacy) (2.4.1)\n",
      "Requirement already satisfied: MarkupSafe>=0.23 in /Users/shirley/anaconda3/lib/python3.7/site-packages (from jinja2->spacy) (1.1.1)\n",
      "Requirement already satisfied: smart-open<6.0.0,>=5.0.0 in /Users/shirley/anaconda3/lib/python3.7/site-packages (from pathy>=0.3.5->spacy) (5.2.1)\n",
      "Requirement already satisfied: certifi>=2017.4.17 in /Users/shirley/anaconda3/lib/python3.7/site-packages (from requests<3.0.0,>=2.13.0->spacy) (2019.6.16)\n",
      "Requirement already satisfied: urllib3!=1.25.0,!=1.25.1,<1.26,>=1.21.1 in /Users/shirley/anaconda3/lib/python3.7/site-packages (from requests<3.0.0,>=2.13.0->spacy) (1.24.2)\n",
      "Requirement already satisfied: idna<2.9,>=2.5 in /Users/shirley/anaconda3/lib/python3.7/site-packages (from requests<3.0.0,>=2.13.0->spacy) (2.8)\n",
      "Requirement already satisfied: chardet<3.1.0,>=3.0.2 in /Users/shirley/anaconda3/lib/python3.7/site-packages (from requests<3.0.0,>=2.13.0->spacy) (3.0.4)\n",
      "Requirement already satisfied: click<7.2.0,>=7.1.1 in /Users/shirley/anaconda3/lib/python3.7/site-packages (from typer<0.4.0,>=0.3.0->spacy) (7.1.2)\n",
      "Requirement already satisfied: zipp>=0.5; python_version < \"3.8\" in /Users/shirley/anaconda3/lib/python3.7/site-packages (from catalogue<2.1.0,>=2.0.4->spacy) (0.5.1)\n",
      "Requirement already satisfied: pyparsing>=2.0.2 in /Users/shirley/anaconda3/lib/python3.7/site-packages (from packaging>=20.0->spacy) (2.4.0)\n",
      "Requirement already satisfied: markovify in /Users/shirley/anaconda3/lib/python3.7/site-packages (0.9.3)\n",
      "Requirement already satisfied: unidecode in /Users/shirley/anaconda3/lib/python3.7/site-packages (from markovify) (1.3.0)\n",
      "\u001b[38;5;3m⚠ As of spaCy v3.0, shortcuts like 'en' are deprecated. Please use the\n",
      "full pipeline package name 'en_core_web_sm' instead.\u001b[0m\n",
      "Requirement already satisfied: en-core-web-sm==3.1.0 from https://github.com/explosion/spacy-models/releases/download/en_core_web_sm-3.1.0/en_core_web_sm-3.1.0-py3-none-any.whl#egg=en_core_web_sm==3.1.0 in /Users/shirley/anaconda3/lib/python3.7/site-packages (3.1.0)\n",
      "Requirement already satisfied: spacy<3.2.0,>=3.1.0 in /Users/shirley/anaconda3/lib/python3.7/site-packages (from en-core-web-sm==3.1.0) (3.1.2)\n",
      "Requirement already satisfied: catalogue<2.1.0,>=2.0.4 in /Users/shirley/anaconda3/lib/python3.7/site-packages (from spacy<3.2.0,>=3.1.0->en-core-web-sm==3.1.0) (2.0.6)\n",
      "Requirement already satisfied: preshed<3.1.0,>=3.0.2 in /Users/shirley/anaconda3/lib/python3.7/site-packages (from spacy<3.2.0,>=3.1.0->en-core-web-sm==3.1.0) (3.0.5)\n",
      "Requirement already satisfied: cymem<2.1.0,>=2.0.2 in /Users/shirley/anaconda3/lib/python3.7/site-packages (from spacy<3.2.0,>=3.1.0->en-core-web-sm==3.1.0) (2.0.5)\n",
      "Requirement already satisfied: srsly<3.0.0,>=2.4.1 in /Users/shirley/anaconda3/lib/python3.7/site-packages (from spacy<3.2.0,>=3.1.0->en-core-web-sm==3.1.0) (2.4.1)\n",
      "Requirement already satisfied: jinja2 in /Users/shirley/anaconda3/lib/python3.7/site-packages (from spacy<3.2.0,>=3.1.0->en-core-web-sm==3.1.0) (2.10.1)\n",
      "Requirement already satisfied: setuptools in /Users/shirley/anaconda3/lib/python3.7/site-packages (from spacy<3.2.0,>=3.1.0->en-core-web-sm==3.1.0) (41.0.1)\n",
      "Requirement already satisfied: packaging>=20.0 in /Users/shirley/anaconda3/lib/python3.7/site-packages (from spacy<3.2.0,>=3.1.0->en-core-web-sm==3.1.0) (21.0)\n",
      "Requirement already satisfied: pydantic!=1.8,!=1.8.1,<1.9.0,>=1.7.4 in /Users/shirley/anaconda3/lib/python3.7/site-packages (from spacy<3.2.0,>=3.1.0->en-core-web-sm==3.1.0) (1.8.2)\n",
      "Requirement already satisfied: pathy>=0.3.5 in /Users/shirley/anaconda3/lib/python3.7/site-packages (from spacy<3.2.0,>=3.1.0->en-core-web-sm==3.1.0) (0.6.0)\n",
      "Requirement already satisfied: tqdm<5.0.0,>=4.38.0 in /Users/shirley/anaconda3/lib/python3.7/site-packages (from spacy<3.2.0,>=3.1.0->en-core-web-sm==3.1.0) (4.62.2)\n",
      "Requirement already satisfied: murmurhash<1.1.0,>=0.28.0 in /Users/shirley/anaconda3/lib/python3.7/site-packages (from spacy<3.2.0,>=3.1.0->en-core-web-sm==3.1.0) (1.0.5)\n",
      "Requirement already satisfied: thinc<8.1.0,>=8.0.8 in /Users/shirley/anaconda3/lib/python3.7/site-packages (from spacy<3.2.0,>=3.1.0->en-core-web-sm==3.1.0) (8.0.10)\n",
      "Requirement already satisfied: spacy-legacy<3.1.0,>=3.0.7 in /Users/shirley/anaconda3/lib/python3.7/site-packages (from spacy<3.2.0,>=3.1.0->en-core-web-sm==3.1.0) (3.0.8)\n",
      "Requirement already satisfied: numpy>=1.15.0 in /Users/shirley/anaconda3/lib/python3.7/site-packages (from spacy<3.2.0,>=3.1.0->en-core-web-sm==3.1.0) (1.18.5)\n",
      "Requirement already satisfied: requests<3.0.0,>=2.13.0 in /Users/shirley/anaconda3/lib/python3.7/site-packages (from spacy<3.2.0,>=3.1.0->en-core-web-sm==3.1.0) (2.22.0)\n",
      "Requirement already satisfied: typer<0.4.0,>=0.3.0 in /Users/shirley/anaconda3/lib/python3.7/site-packages (from spacy<3.2.0,>=3.1.0->en-core-web-sm==3.1.0) (0.3.2)\n",
      "Requirement already satisfied: typing-extensions<4.0.0.0,>=3.7.4; python_version < \"3.8\" in /Users/shirley/anaconda3/lib/python3.7/site-packages (from spacy<3.2.0,>=3.1.0->en-core-web-sm==3.1.0) (3.7.4.3)\n",
      "Requirement already satisfied: blis<0.8.0,>=0.4.0 in /Users/shirley/anaconda3/lib/python3.7/site-packages (from spacy<3.2.0,>=3.1.0->en-core-web-sm==3.1.0) (0.7.4)\n",
      "Requirement already satisfied: wasabi<1.1.0,>=0.8.1 in /Users/shirley/anaconda3/lib/python3.7/site-packages (from spacy<3.2.0,>=3.1.0->en-core-web-sm==3.1.0) (0.8.2)\n",
      "Requirement already satisfied: zipp>=0.5; python_version < \"3.8\" in /Users/shirley/anaconda3/lib/python3.7/site-packages (from catalogue<2.1.0,>=2.0.4->spacy<3.2.0,>=3.1.0->en-core-web-sm==3.1.0) (0.5.1)\n"
     ]
    },
    {
     "name": "stdout",
     "output_type": "stream",
     "text": [
      "Requirement already satisfied: MarkupSafe>=0.23 in /Users/shirley/anaconda3/lib/python3.7/site-packages (from jinja2->spacy<3.2.0,>=3.1.0->en-core-web-sm==3.1.0) (1.1.1)\n",
      "Requirement already satisfied: pyparsing>=2.0.2 in /Users/shirley/anaconda3/lib/python3.7/site-packages (from packaging>=20.0->spacy<3.2.0,>=3.1.0->en-core-web-sm==3.1.0) (2.4.0)\n",
      "Requirement already satisfied: smart-open<6.0.0,>=5.0.0 in /Users/shirley/anaconda3/lib/python3.7/site-packages (from pathy>=0.3.5->spacy<3.2.0,>=3.1.0->en-core-web-sm==3.1.0) (5.2.1)\n",
      "Requirement already satisfied: certifi>=2017.4.17 in /Users/shirley/anaconda3/lib/python3.7/site-packages (from requests<3.0.0,>=2.13.0->spacy<3.2.0,>=3.1.0->en-core-web-sm==3.1.0) (2019.6.16)\n",
      "Requirement already satisfied: urllib3!=1.25.0,!=1.25.1,<1.26,>=1.21.1 in /Users/shirley/anaconda3/lib/python3.7/site-packages (from requests<3.0.0,>=2.13.0->spacy<3.2.0,>=3.1.0->en-core-web-sm==3.1.0) (1.24.2)\n",
      "Requirement already satisfied: idna<2.9,>=2.5 in /Users/shirley/anaconda3/lib/python3.7/site-packages (from requests<3.0.0,>=2.13.0->spacy<3.2.0,>=3.1.0->en-core-web-sm==3.1.0) (2.8)\n",
      "Requirement already satisfied: chardet<3.1.0,>=3.0.2 in /Users/shirley/anaconda3/lib/python3.7/site-packages (from requests<3.0.0,>=2.13.0->spacy<3.2.0,>=3.1.0->en-core-web-sm==3.1.0) (3.0.4)\n",
      "Requirement already satisfied: click<7.2.0,>=7.1.1 in /Users/shirley/anaconda3/lib/python3.7/site-packages (from typer<0.4.0,>=0.3.0->spacy<3.2.0,>=3.1.0->en-core-web-sm==3.1.0) (7.1.2)\n",
      "\u001b[38;5;2m✔ Download and installation successful\u001b[0m\n",
      "You can now load the package via spacy.load('en_core_web_sm')\n"
     ]
    }
   ],
   "source": [
    "# Install all the libraries \n",
    "!pip install nltk\n",
    "!pip install spacy\n",
    "!pip install markovify\n",
    "!python -m spacy download en "
   ]
  },
  {
   "cell_type": "code",
   "execution_count": 2,
   "metadata": {},
   "outputs": [],
   "source": [
    "#import al the libraries \n",
    "import spacy\n",
    "import re\n",
    "import markovify\n",
    "import warnings\n",
    "warnings.filterwarnings('ignore')\n",
    "\n"
   ]
  },
  {
   "cell_type": "code",
   "execution_count": 3,
   "metadata": {},
   "outputs": [
    {
     "name": "stdout",
     "output_type": "stream",
     "text": [
      "\n",
      "Raw:\n",
      " MESA, Ariz. — Helen Obando, 18 and soon to be a high school senior, nibbled french fries at a cafe a\n"
     ]
    }
   ],
   "source": [
    "# replace with your own .txt file \n",
    "\n",
    "file = open(\"times.txt\",\"r\")\n",
    "\n",
    "text = file.read()\n",
    "\n",
    "#print first hundred characters\n",
    "print('\\nRaw:\\n', text[:100])"
   ]
  },
  {
   "cell_type": "code",
   "execution_count": 4,
   "metadata": {},
   "outputs": [],
   "source": [
    "#utility function for text cleaning\n",
    "#bonus points if you do your own data cleaning with regular expressions \n",
    "def text_cleaner(text):\n",
    "  text = re.sub(r'--', ' ', text)\n",
    "  text = re.sub('[\\[].*?[\\]]', '', text)\n",
    "  text = re.sub(r'(\\b|\\s+\\-?|^\\-?)(\\d+|\\d*\\.\\d+)\\b','', text)\n",
    "  text = ' '.join(text.split())\n",
    "  return text"
   ]
  },
  {
   "cell_type": "code",
   "execution_count": 5,
   "metadata": {},
   "outputs": [],
   "source": [
    "#apply utility function to clean corpus \n",
    "text = text_cleaner(text)"
   ]
  },
  {
   "cell_type": "code",
   "execution_count": 6,
   "metadata": {},
   "outputs": [],
   "source": [
    "#parse \n",
    "nlp = spacy.load('en_core_web_sm')\n",
    "text_doc = nlp(text)\n"
   ]
  },
  {
   "cell_type": "code",
   "execution_count": 7,
   "metadata": {},
   "outputs": [],
   "source": [
    "#join the sentences in the novel \n",
    "text_sents = ' '.join([sent.text for sent in text_doc.sents if len(sent.text) > 1])"
   ]
  },
  {
   "cell_type": "code",
   "execution_count": 8,
   "metadata": {},
   "outputs": [
    {
     "name": "stdout",
     "output_type": "stream",
     "text": [
      "MESA, Ariz. — Helen Obando, and soon to be a high school senior, nibbled french fries at a cafe and chatted about her future. Dressed in a halter top and shorts, her toenails painted turquoise, she described her plans to enroll in community college, teach hip-hop dance and become a trauma nurse someday. For most of her life, such modest dreams would have been unattainable. Helen was born with sickle cell disease. Since babyhood, she had experienced episodes of searing pain, hospitalization and organ damage, and would have been expected to die in her 40s. But in she became the first American teenager with sickle cell to be declared free of the disease six months after undergoing an experimental gene therapy meant to cure her. Her symptoms have vanished. She assures teenagers she met at a camp for children with sickle cell: “One day they can have what I had.” Such therapies are years off unless the federal government finds a way to speed progress. This is a time of great promise for Americans with the disease, who are mostly Black. In recent years, clinical trials of three gene therapies for sickle cell have produced astonishing results for a few dozen lucky participants like Helen, raising hopes that a cure could be at hand for some, if not many, of the, people in the United States who have the disease. And in the midst of a pandemic that has laid bare profound racial inequities in health care, President Biden has pledged to combat them. But the hope is shadowed by a legacy of underinvestment in treatments for sickle cell compared with diseases that mostly afflict white people, researchers have shown. Only four medications have been approved for the disease — and even they are often not used. As inspiring as the early gene therapy results have been, the pace of progress has been slowed by the same factor that could greatly limit the treatments’ wide availability if and when they come to market: their sheer expense, with an expected price tag of $ million to $ million per patient. Read Helen’s story. Then, watch “The Weekly” on FX and Hulu. At, She’s a Pioneer in the Fight to Cure Sickle Cell Disease Helen Obando is the youngest person ever to get a gene therapy that scientists hope will cure the disease, which afflicts, Americans. Jan., Dr. Francis Collins, the director of the National Institutes of Health and a geneticist who has long pushed for more research into sickle cell, an inherited disease, said in an interview that he had been in “high level talks” with officials at the Centers for Medicaid and Medicare Services for two years about covering the cost of experimental sickle cell therapies for patients in clinical trials, which would greatly speed the process. He noted that the price of a potentially curative one-time treatment would be significantly less than the lifetime cost of caring for people with the disease. The federal government has paid such costs before for bone-marrow transplants for sickle cell, for example, and amyloid PET brain scans for Alzheimer’s disease. But, Dr. Collins said, the progress of his talks with health officials slowed with the change of administrations from Trump to Biden; the appointment of a new director for the Centers for Medicaid and Medicare Services, Dr. Chiquita Brooks-LaSure, only in May; and the overwhelming focus on the pandemic. Dr. Collins said he would meet with Dr. Brooks-LaSure and her team in October to discuss his proposal. Editors’ Picks The Rock That Ended the Dinosaurs Was Much More Than a Dino Killer Love Wine? Here Are Ways to Appreciate It Even More. Julie Delpy’s New Netflix Comedy Gives Voice to Women ‘On the Verge’ “This is an opportunity to save lives and save suffering,” Dr. Collins said. “A lot of other diseases have gotten way more attention,” he said, a situation he attributed in large part to systemic racism. With the excitement over gene therapy, Dr. Collins added, “we might make up for decades of neglect.” The clinical trials, run by Bluebird Bio, Boston Children’s Hospital and Vertex Therapeutics, have changed the lives of the lucky patients like Helen who got them. Almost all the few dozen patients in the trials who passed the six-month marker since their treatments ended have had stunning results like hers. “It’s an exciting time for sickle cell,” said Dr. Erica Esrick, a hematologist at Boston Children’s Hospital who led the clinical trail Helen participated in. “We’re enthusiastic. We’re optimistic.” Image Helen, with her parents, Bryon Obando, left, and Sheila Cintron, and Dr. Erica Esrick at the Dana-Farber Boston Children&rsquo;s Cancer and Blood Disorders Center in. Helen, with her parents, Bryon Obando, left, and Sheila Cintron, and Dr. Erica Esrick at the Dana-Farber Boston Children’s Cancer and Blood Disorders Center in. Credit... Hilary Swift for The New York Times Researchers will follow these patients for years to see if there are long-term complications, or if they remain free of sickle cell and can be considered truly cured. Sign Up for The Great Read Every weekday, we recommend one piece of exceptional writing from The Times — a narrative or essay that takes you someplace you might not expect to go. Get it sent to your inbox. One concern is that altering genes to rid them of sickle cell could introduce mutations that cause cancer down the road. Bluebird Bio, one of the companies testing a gene therapy for sickle cell — not Helen’s — recently paused its clinical trial after two patients developed cancer to study whether their illnesses were caused by the treatment. But further investigation exonerated the gene therapy, and the Food and Drug Administration allowed the studies to resume. If and when a gene therapy is approved for sickle cell, it is not clear how many people would be able to get it. Nor is it clear who would pay for it. The N.I.H. has formed two independent committees to study how much money could be saved over a lifetime of treatment for sickle cell if people with the disease could be cured with a costly gene therapy. Dr. Scott Ramsey, a health economist and internist at the Fred Hutchinson Cancer Center, who heads one of the committees, said data from private insurers indicated the lifetime cost for a person with sickle cell is $ million. “I’m not aware of another chronic disease that even comes close,” to costing that much, he said. He said he only recently got data for patients whose care is paid for through Medicaid and Medicare. His group is now analyzing it. The ultimate goal is to find a simple, cheap way to cure sickle cell with a gene therapy that could be injected like a vaccine and used in developing countries with weak health care systems where complex, costly gene therapies would generally be unaffordable or impractical. To reach that goal, the N.I.H. is working with the Gates Foundation, along with academic researchers, several small biotechs, and the large drug company Novartis, which has experience bringing drugs to market. But it may be a decade before the first people get injections, said Dr. J. Mike McCune, who heads the project for the foundation. People with the disease want help now — and those who have gotten the gene therapies and their loved ones attest to the power of the treatments. “Now she can have a life,” said Helen’s mother, Sheila Cintron. “She never did before.” Image Helen with her parents on a visit to Boston for treatment in. Helen with her parents on a visit to Boston for treatment in. Credit... Hilary Swift for The New York Times A Chance for a Cure Like every sickle cell patient, Helen had a mutation in a gene that turned her red blood cells into rigid crescents instead of soft disks. Those misshapen cells got trapped in her blood vessels, injuring them, causing searing pain, and leading to lasting damage to tissues and organs. Sickled cells blocked her spleen, which had to be removed. She had three life-threatening blockages of blood to the lungs. And her hip bones were permanently damaged by the disease. Until now, the only cure was to give patients a bone-marrow transplant, which involved destroying their own marrow and replacing it with marrow from a donor so closely matched the body would not reject it. Helen’s older sister had this treatment and was cured. Her healthy younger brother was the donor, but he was not a match for Helen. Helen’s gene therapy took advantage of a discovery made decades ago. During fetal life, the production of red cells is directed by a gene that shuts down shortly after birth. Then an adult version of the gene takes over to direct red cell production. But that gene, the adult globin gene, is the one that can carry a sickle cell mutation. Gene therapy flipped the switch backward, turning on her perfectly functional fetal gene and shutting down her mutated adult gene. Researchers at Boston Children’s Hospital have now treated nine of patients in their clinical trial and recently got a $ million grant from the N.I.H. and the California Institute of Regenerative Medicine to treat more patients at medical centers. The results so far, involving Helen and five other patients who got the same therapy, including a-year-old boy, were recently published in the New England Journal of Medicine. All were free of the disease. Another paper, published along with the same journal, involved Vertex’s therapy that used the gene editing technique CRISPR to turn on the fetal hemoglobin gene and turn off the adult gene. The treatment, of a-year-old woman with sickle cell, was a success. The company has now given its therapy to six more patients, all of whom have passed the three-month mark. Vertex says the treatment appears to have succeeded. Bluebird Bio has a different strategy — using a disabled virus to deliver a copy of a functioning globin gene. The company reported that in its most recent study, patients have been treated, of whom are at least six months past their treatment and now have normal or near-normal hemoglobin levels and are free of the debilitating effects of sickle cell. At Boston Children’s, more than people inquired about getting themselves or their children into the four-year-long clinical trial for patients ages to. Most will be disappointed. Image Helen Obando,, has a certificate commemorating her gene therapy. Now that she now longer has sickle cell she says she almost never thinks back to those terrible years of illness. Helen Obando,, has a certificate commemorating her gene therapy. Now that she now longer has sickle cell she says she almost never thinks back to those terrible years of illness. Credit... Ash Ponders for The New York Times Lives Transformed Braxton Hubbard of Evanston, Ill., began his treatment with Bluebird’s therapy on July at age — the same age at which his older brother Brandon died of sickle cell. It began, as these treatments always do, with intense chemotherapy that destroyed his immune system. In January, his doctor, Alexis Thompson of Northwestern University, told him he no longer had sickle cell disease. It is strange, Mr. Hubbard said, to think he has a future. “I am becoming more serious about life,” he said. “I didn’t think I would have a life.” Helen, too, has been adjusting to life as a healthy person — an alteration her pediatric hematologist, Dr. Alexander Ngwube of Phoenix Children’s Hospital, has observed in sickle cell patients cured with bone-marrow transplants. “Remember with sickle cell disease they are hospitalized a lot,” he said. “There are so many restrictions on their lives. They become depressed and when they are a little older they realize they have a life expectancy of years. They start to think, ‘What is the point of doing anything?’” When they are cured, he said, “it is almost like the world is theirs to play with.” When Dr. Esrick gave Helen the good news a year ago, Helen lay silent on the exam table, not daring to talk. Helen and her family have since moved from Lawrence, Mass., to Mesa, Ariz. I’ve followed her progress for more than two years. A lifetime of stoicism had taught her to keep her emotions to herself. Through a harrowing monthlong stay in the hospital for the gene therapy, she barely spoke to me. Even after it was completed, she tapped her mother on the arm and pointed when she wanted an ice cream cone as we walked through the Faneuil Hall Marketplace in Boston. Freed of illness, she’s become far more outgoing. On summer weekends, she’s ventured to an arcade and a water park, and gone tubing. “I’ve been trying to make new friends,” she said, “and get out into the world.” Her passion is dancing. “I always wanted to be a dance instructor,” she said. Lasting damage to her hip from sickle cell makes it hard for her to dance but, she said, she should be able to teach. She said she didn’t look back on her old life, but her mother, Ms. Cintron, relishes her daughter’s good fortune: “I keep thinking: We are so blessed.”\n"
     ]
    }
   ],
   "source": [
    "print(text_sents)"
   ]
  },
  {
   "cell_type": "code",
   "execution_count": 9,
   "metadata": {},
   "outputs": [],
   "source": [
    "generator = markovify.Text(text_sents, state_size=3)"
   ]
  },
  {
   "cell_type": "code",
   "execution_count": 10,
   "metadata": {},
   "outputs": [
    {
     "name": "stdout",
     "output_type": "stream",
     "text": [
      "Through a harrowing monthlong stay in the hospital for the gene therapy, and the Food and Drug Administration allowed the studies to resume.\n",
      "None\n",
      "Helen was born with sickle cell is $ million.\n"
     ]
    }
   ],
   "source": [
    "#We will randomly generate three sentences\n",
    "for i in range(3):\n",
    "    print(generator.make_sentence())"
   ]
  },
  {
   "cell_type": "code",
   "execution_count": 11,
   "metadata": {},
   "outputs": [
    {
     "name": "stdout",
     "output_type": "stream",
     "text": [
      "For most of her life, such modest dreams would have been expected to die in her 40s.\n",
      "None\n",
      "One concern is that altering genes to rid them of sickle cell and can be considered truly cured.\n"
     ]
    }
   ],
   "source": [
    "#We will randomly generate three more sentences of no more than 100 characters\n",
    "for i in range(3):\n",
    "    print(generator.make_short_sentence(max_chars=100))"
   ]
  },
  {
   "cell_type": "code",
   "execution_count": null,
   "metadata": {},
   "outputs": [],
   "source": []
  }
 ],
 "metadata": {
  "kernelspec": {
   "display_name": "Python 3",
   "language": "python",
   "name": "python3"
  },
  "language_info": {
   "codemirror_mode": {
    "name": "ipython",
    "version": 3
   },
   "file_extension": ".py",
   "mimetype": "text/x-python",
   "name": "python",
   "nbconvert_exporter": "python",
   "pygments_lexer": "ipython3",
   "version": "3.7.3"
  }
 },
 "nbformat": 4,
 "nbformat_minor": 2
}
